{
 "cells": [
  {
   "cell_type": "markdown",
   "metadata": {},
   "source": [
    "<h3>This notebook shows basic OOP concepts by implementing animal and shape classes</h3>"
   ]
  },
  {
   "cell_type": "markdown",
   "metadata": {},
   "source": [
    "<h3>Animals:</h3>"
   ]
  },
  {
   "cell_type": "code",
   "execution_count": 1,
   "metadata": {},
   "outputs": [],
   "source": [
    "class Animal():\n",
    "    #constructor\n",
    "    def __init__(self):\n",
    "        self._name = '' #protected attribute\n",
    "        self._sound = ''\n",
    "        self._color = ''\n",
    "        self.__species = 'Animal' #private attribute\n",
    "    #getter and setter functions, since private and protected methods aren't to be accessed directly, this implements data hiding\n",
    "    def getName(self):\n",
    "        print(\"The animal is\", self._name)\n",
    "    def getSound(self):\n",
    "        print(self._name, self._sound + \"s.\")\n",
    "    def getColor(self):\n",
    "        print(self._name, \"is\", self._color, \"colored.\")\n",
    "    def setName(self, name):\n",
    "        self._name = name\n",
    "    def setSound(self, sound):\n",
    "        self._sound = sound\n",
    "    def setColor(self, color):\n",
    "        self._color = color\n",
    "    def setSpecies(self, species):\n",
    "        self.__species = species"
   ]
  },
  {
   "cell_type": "markdown",
   "metadata": {},
   "source": [
    "<h3>Following this we define subclasses that inherit from the animal base class and implement specific animals</h3>"
   ]
  },
  {
   "cell_type": "code",
   "execution_count": 2,
   "metadata": {},
   "outputs": [],
   "source": [
    "class Dog(Animal):\n",
    "    def __init__(self):\n",
    "        self._name = 'Dog' #protected members can be accessed directly in derived class\n",
    "        self._sound = 'Bark'\n",
    "        self._color = 'Brown'\n",
    "    def describe(self):\n",
    "        self.getName()\n",
    "        self.getSound()\n",
    "        self.getColor()"
   ]
  },
  {
   "cell_type": "code",
   "execution_count": 3,
   "metadata": {},
   "outputs": [],
   "source": [
    "class Cat(Animal):\n",
    "    def __init__(self):\n",
    "        self._name = 'Cat' #protected members can be accessed directly in derived class\n",
    "        self._sound = 'Meow'\n",
    "        self._color = 'White'\n",
    "    def describe(self):\n",
    "        self.getName()\n",
    "        self.getSound()\n",
    "        self.getColor()"
   ]
  },
  {
   "cell_type": "code",
   "execution_count": 4,
   "metadata": {},
   "outputs": [],
   "source": [
    "class Horse(Animal):\n",
    "    def __init__(self):\n",
    "        self._name = 'Horse' #protected members can be accessed directly in derived class\n",
    "        self._sound = 'Neigh'\n",
    "        self._color = 'Brown'\n",
    "    def describe(self):\n",
    "        self.getName()\n",
    "        self.getSound()\n",
    "        self.getColor()"
   ]
  },
  {
   "cell_type": "code",
   "execution_count": 5,
   "metadata": {},
   "outputs": [],
   "source": [
    "class Bear(Animal):\n",
    "    def __init__(self):\n",
    "        self._name = 'Bear' #protected members can be accessed directly in derived class\n",
    "        self._sound = 'Growl'\n",
    "        self._color = 'Brown'\n",
    "    def describe(self):\n",
    "        self.getName()\n",
    "        self.getSound()\n",
    "        self.getColor()"
   ]
  },
  {
   "cell_type": "code",
   "execution_count": 6,
   "metadata": {},
   "outputs": [],
   "source": [
    "class Cow(Animal):\n",
    "    def __init__(self):\n",
    "        self._name = 'Cow' #protected members can be accessed directly in derived class\n",
    "        self._sound = 'Moo'\n",
    "        self._color = 'White'\n",
    "    def describe(self):\n",
    "        self.getName()\n",
    "        self.getSound()\n",
    "        self.getColor()"
   ]
  },
  {
   "cell_type": "code",
   "execution_count": 7,
   "metadata": {},
   "outputs": [],
   "source": [
    "class Owl(Animal):\n",
    "    def __init__(self):\n",
    "        self._name = 'Owl' #protected members can be accessed directly in derived class\n",
    "        self._sound = 'Hoot'\n",
    "        self._color = 'Grey'\n",
    "    def describe(self):\n",
    "        self.getName()\n",
    "        self.getSound()\n",
    "        self.getColor()"
   ]
  },
  {
   "cell_type": "code",
   "execution_count": 8,
   "metadata": {},
   "outputs": [],
   "source": [
    "class Lion(Animal):\n",
    "    def __init__(self):\n",
    "        self._name = 'Lion' #protected members can be accessed directly in derived class\n",
    "        self._sound = 'Roar'\n",
    "        self._color = 'Orange'\n",
    "    def describe(self):\n",
    "        self.getName()\n",
    "        self.getSound()\n",
    "        self.getColor()"
   ]
  },
  {
   "cell_type": "code",
   "execution_count": 9,
   "metadata": {},
   "outputs": [],
   "source": [
    "class Tiger(Animal):\n",
    "    def __init__(self):\n",
    "        self._name = 'Tiger' #protected members can be accessed directly in derived class\n",
    "        self._sound = 'Roar'\n",
    "        self._color = 'Orange'\n",
    "    def describe(self):\n",
    "        self.getName()\n",
    "        self.getSound()\n",
    "        self.getColor()"
   ]
  },
  {
   "cell_type": "code",
   "execution_count": 10,
   "metadata": {},
   "outputs": [],
   "source": [
    "class Wolf(Animal):\n",
    "    def __init__(self):\n",
    "        self._name = 'Wolf' #protected members can be accessed directly in derived class\n",
    "        self._sound = 'Howl'\n",
    "        self._color = 'Grey'\n",
    "    def describe(self):\n",
    "        self.getName()\n",
    "        self.getSound()\n",
    "        self.getColor()"
   ]
  },
  {
   "cell_type": "markdown",
   "metadata": {},
   "source": [
    "<h3>Example Usage</h3>"
   ]
  },
  {
   "cell_type": "code",
   "execution_count": 11,
   "metadata": {},
   "outputs": [],
   "source": [
    "d = Dog()"
   ]
  },
  {
   "cell_type": "code",
   "execution_count": 12,
   "metadata": {},
   "outputs": [
    {
     "name": "stdout",
     "output_type": "stream",
     "text": [
      "The animal is Dog\n",
      "Dog Barks.\n",
      "Dog is Brown colored.\n"
     ]
    }
   ],
   "source": [
    "d.describe()"
   ]
  },
  {
   "cell_type": "code",
   "execution_count": 13,
   "metadata": {},
   "outputs": [
    {
     "ename": "AttributeError",
     "evalue": "'Dog' object has no attribute '__species'",
     "output_type": "error",
     "traceback": [
      "\u001b[0;31m---------------------------------------------------------------------------\u001b[0m",
      "\u001b[0;31mAttributeError\u001b[0m                            Traceback (most recent call last)",
      "\u001b[0;32m<ipython-input-13-64e284938c4d>\u001b[0m in \u001b[0;36m<module>\u001b[0;34m\u001b[0m\n\u001b[0;32m----> 1\u001b[0;31m \u001b[0md\u001b[0m\u001b[0;34m.\u001b[0m\u001b[0m__species\u001b[0m \u001b[0;31m#Can't accesss private member species\u001b[0m\u001b[0;34m\u001b[0m\u001b[0;34m\u001b[0m\u001b[0m\n\u001b[0m",
      "\u001b[0;31mAttributeError\u001b[0m: 'Dog' object has no attribute '__species'"
     ]
    }
   ],
   "source": [
    "d.__species #Can't accesss private member species"
   ]
  },
  {
   "cell_type": "code",
   "execution_count": 14,
   "metadata": {},
   "outputs": [],
   "source": [
    "l = Lion()"
   ]
  },
  {
   "cell_type": "code",
   "execution_count": 15,
   "metadata": {},
   "outputs": [
    {
     "name": "stdout",
     "output_type": "stream",
     "text": [
      "The animal is Lion\n",
      "Lion Roars.\n",
      "Lion is Orange colored.\n"
     ]
    }
   ],
   "source": [
    "l.describe()"
   ]
  },
  {
   "cell_type": "code",
   "execution_count": 16,
   "metadata": {},
   "outputs": [
    {
     "ename": "AttributeError",
     "evalue": "'Lion' object has no attribute '__species'",
     "output_type": "error",
     "traceback": [
      "\u001b[0;31m---------------------------------------------------------------------------\u001b[0m",
      "\u001b[0;31mAttributeError\u001b[0m                            Traceback (most recent call last)",
      "\u001b[0;32m<ipython-input-16-45f7b2f630a6>\u001b[0m in \u001b[0;36m<module>\u001b[0;34m\u001b[0m\n\u001b[0;32m----> 1\u001b[0;31m \u001b[0ml\u001b[0m\u001b[0;34m.\u001b[0m\u001b[0m__species\u001b[0m\u001b[0;34m(\u001b[0m\u001b[0;34m)\u001b[0m \u001b[0;31m#Can't accesss private member species\u001b[0m\u001b[0;34m\u001b[0m\u001b[0;34m\u001b[0m\u001b[0m\n\u001b[0m",
      "\u001b[0;31mAttributeError\u001b[0m: 'Lion' object has no attribute '__species'"
     ]
    }
   ],
   "source": [
    "l.__species() #Can't accesss private member species"
   ]
  },
  {
   "cell_type": "markdown",
   "metadata": {},
   "source": [
    "<h3>Shapes:</h3>"
   ]
  },
  {
   "cell_type": "code",
   "execution_count": 20,
   "metadata": {},
   "outputs": [],
   "source": [
    "import math\n",
    "import turtle"
   ]
  },
  {
   "cell_type": "markdown",
   "metadata": {},
   "source": [
    "<h4>Base Class Shape</h4>"
   ]
  },
  {
   "cell_type": "code",
   "execution_count": 21,
   "metadata": {},
   "outputs": [],
   "source": [
    "class shape(): #shape is an abstract base class\n",
    "    _sides = 0\n",
    "    _area = 0\n",
    "    _perimeter = 0\n",
    "    def getarea(self):\n",
    "        pass\n",
    "    def getperimeter(self):\n",
    "        pass \n",
    "    def draw_shape(self): \n",
    "        pass"
   ]
  },
  {
   "cell_type": "markdown",
   "metadata": {},
   "source": [
    "<h4>Rectangle</h4>"
   ]
  },
  {
   "cell_type": "code",
   "execution_count": 22,
   "metadata": {},
   "outputs": [],
   "source": [
    "class rectangle(shape):\n",
    "    def __init__(self, side1, side2):\n",
    "        self._side1 = side1\n",
    "        self._side2 = side2\n",
    "        self._sides = 4\n",
    "    def getarea(self):\n",
    "        self._area = (self._side1*self._side2)\n",
    "        print(\"Area = {}\".format(self._area))\n",
    "    def getperimeter(self):\n",
    "        self._perimeter = 2*(self._side1+self._side2)\n",
    "        print(\"Perimeter = {}\".format(self._perimeter))\n",
    "    def draw_shape(self):\n",
    "        turtle.clear()\n",
    "        turtle.forward(self._side1)\n",
    "        turtle.left(90)\n",
    "        turtle.forward(self._side2)\n",
    "        turtle.left(90)\n",
    "        turtle.forward(self._side1)\n",
    "        turtle.left(90)\n",
    "        turtle.forward(self._side2)"
   ]
  },
  {
   "cell_type": "code",
   "execution_count": 23,
   "metadata": {},
   "outputs": [],
   "source": [
    "r = rectangle(100, 200)"
   ]
  },
  {
   "cell_type": "code",
   "execution_count": 24,
   "metadata": {},
   "outputs": [],
   "source": [
    "r.draw_shape()"
   ]
  },
  {
   "cell_type": "code",
   "execution_count": 25,
   "metadata": {},
   "outputs": [
    {
     "name": "stdout",
     "output_type": "stream",
     "text": [
      "Area = 20000\n"
     ]
    }
   ],
   "source": [
    "r.getarea()"
   ]
  },
  {
   "cell_type": "markdown",
   "metadata": {},
   "source": [
    "<h4>Square</h4>"
   ]
  },
  {
   "cell_type": "code",
   "execution_count": 26,
   "metadata": {},
   "outputs": [],
   "source": [
    "class square(rectangle):\n",
    "    def __init__(self, side1):\n",
    "        self._side1 = side1\n",
    "        self._side2 = side1"
   ]
  },
  {
   "cell_type": "code",
   "execution_count": 27,
   "metadata": {},
   "outputs": [],
   "source": [
    "s = square(100)"
   ]
  },
  {
   "cell_type": "code",
   "execution_count": 30,
   "metadata": {},
   "outputs": [],
   "source": [
    "s.draw_shape()"
   ]
  },
  {
   "cell_type": "markdown",
   "metadata": {},
   "source": [
    "<h4>Triangle</h4>"
   ]
  },
  {
   "cell_type": "code",
   "execution_count": 31,
   "metadata": {},
   "outputs": [],
   "source": [
    "class triangle(shape):\n",
    "    def __init__(self, side1, side2, side3, angle1, angle2):\n",
    "        self._side1 = side1\n",
    "        self._side2 = side2\n",
    "        self._side3 = side3\n",
    "        self._angle1 = angle1\n",
    "        self._angle2 = angle2\n",
    "        self._sides = 3\n",
    "    def getperimeter(self):\n",
    "        self._perimeter = self._side1 + self._side2 + self._side3\n",
    "        print(\"Perimeter = {}\".format(self._perimeter))\n",
    "    def getarea(self):\n",
    "        sp = (self._side1 + self._side2 + self._side3)/2\n",
    "        self._area = math.sqrt((sp)*(sp-self._side1)*(sp-self._side2)*(sp-self._side3))\n",
    "        print(\"Area = {}\".format(self._area))\n",
    "    def draw_shape(self):\n",
    "        turtle.clear()\n",
    "        turtle.forward(self._side1)\n",
    "        turtle.left(2*self._angle1)\n",
    "        turtle.forward(self._side2)\n",
    "        turtle.left(2*self._angle2)\n",
    "        turtle.forward(self._side3)"
   ]
  },
  {
   "cell_type": "code",
   "execution_count": 32,
   "metadata": {},
   "outputs": [],
   "source": [
    "t = triangle(100, 100, 100, 60, 60)"
   ]
  },
  {
   "cell_type": "code",
   "execution_count": 34,
   "metadata": {},
   "outputs": [],
   "source": [
    "t.draw_shape()"
   ]
  },
  {
   "cell_type": "markdown",
   "metadata": {},
   "source": [
    "<h4>Rhombus</h4>"
   ]
  },
  {
   "cell_type": "code",
   "execution_count": 35,
   "metadata": {},
   "outputs": [],
   "source": [
    "class rhombus(rectangle):\n",
    "    def __init__(self, diag1, diag2):\n",
    "        self.diag1 = diag1\n",
    "        self.diag2 = diag2\n",
    "        self._side1 = (self.diag1**2 + self.diag2**2)**(0.5)/2\n",
    "        self._side2 = (self.diag1**2 + self.diag2**2)**(0.5)/2\n",
    "\n",
    "    def getarea(self): #function overriding\n",
    "        self._area = (0.5*self.diag1*self.diag2)\n",
    "        print(\"Area = {}\".format(self._area))\n",
    "\n",
    "    def draw_shape(self):\n",
    "        side = self._side1\n",
    "        angle1 = math.acos(((side**2)*2 - self.diag1**2)/(2*side*side))\n",
    "        angle1 = math.degrees(angle1)\n",
    "        angle2 = (360 - 2*angle1)/2\n",
    "        turtle.forward(side)\n",
    "        turtle.right(angle1)\n",
    "        turtle.forward(side)\n",
    "        turtle.right(angle2)\n",
    "        turtle.forward(side)\n",
    "        turtle.right(angle1)\n",
    "        turtle.forward(side)"
   ]
  },
  {
   "cell_type": "code",
   "execution_count": 39,
   "metadata": {},
   "outputs": [],
   "source": [
    "r = rhombus(60,80)"
   ]
  },
  {
   "cell_type": "code",
   "execution_count": 40,
   "metadata": {},
   "outputs": [
    {
     "name": "stdout",
     "output_type": "stream",
     "text": [
      "Area = 2400.0\n"
     ]
    }
   ],
   "source": [
    "r.getarea()"
   ]
  },
  {
   "cell_type": "markdown",
   "metadata": {},
   "source": [
    "<h4>Parallelogram</h4>"
   ]
  },
  {
   "cell_type": "code",
   "execution_count": 41,
   "metadata": {},
   "outputs": [],
   "source": [
    "class parallelogram(rectangle):\n",
    "    def __init__(self, side1, side2, angle1):\n",
    "        self._side1 = side1\n",
    "        self._side2 = side2\n",
    "        self._angle1 = angle1\n",
    "\n",
    "    def draw_shape(self):\n",
    "        turtle.clear()\n",
    "        turtle.forward(self._side1)\n",
    "        turtle.left(self._angle1)\n",
    "        turtle.forward(self._side2)\n",
    "        turtle.left(180-self._angle1)\n",
    "        turtle.forward(self._side1)\n",
    "        turtle.left(self._angle1)\n",
    "        turtle.forward(self._side2)"
   ]
  },
  {
   "cell_type": "code",
   "execution_count": 42,
   "metadata": {},
   "outputs": [],
   "source": [
    "p = parallelogram(200, 100, 60)"
   ]
  },
  {
   "cell_type": "code",
   "execution_count": 43,
   "metadata": {},
   "outputs": [],
   "source": [
    "p.draw_shape()"
   ]
  },
  {
   "cell_type": "markdown",
   "metadata": {},
   "source": [
    "<h4>Circle</h4>"
   ]
  },
  {
   "cell_type": "code",
   "execution_count": 44,
   "metadata": {},
   "outputs": [],
   "source": [
    "class circle(shape):\n",
    "    def __init__(self, radius):\n",
    "        self._radius = radius\n",
    "    def getarea(self):\n",
    "        self._area = (math.pi*self._radius*self._radius)\n",
    "        print(\"Area = {}\".format(self._area))\n",
    "    def getperimeter(self):\n",
    "        self._perimeter = (2*(math.pi)*self._radius)\n",
    "        print(\"Perimeter = {}\".format(self._perimeter))\n",
    "    def draw_shape(self):\n",
    "        turtle.clear()\n",
    "        turtle.circle(self._radius)"
   ]
  },
  {
   "cell_type": "code",
   "execution_count": 45,
   "metadata": {},
   "outputs": [],
   "source": [
    "c = circle(100)"
   ]
  },
  {
   "cell_type": "code",
   "execution_count": 46,
   "metadata": {},
   "outputs": [],
   "source": [
    "c.draw_shape()"
   ]
  },
  {
   "cell_type": "code",
   "execution_count": 47,
   "metadata": {},
   "outputs": [
    {
     "name": "stdout",
     "output_type": "stream",
     "text": [
      "Area = 31415.926535897932\n"
     ]
    }
   ],
   "source": [
    "c.getarea()"
   ]
  },
  {
   "cell_type": "markdown",
   "metadata": {},
   "source": [
    "<h4>Ellipse</h4>"
   ]
  },
  {
   "cell_type": "code",
   "execution_count": 48,
   "metadata": {},
   "outputs": [],
   "source": [
    "class ellipse(shape):\n",
    "    def __init__(self, a, b):\n",
    "        self._a = a\n",
    "        self._b = b\n",
    "    def getarea(self):\n",
    "        self._area = (math.pi*self._a*self._b)\n",
    "        print(\"Area = {}\".format(self._area))\n",
    "    def getperimeter(self):\n",
    "        self._perimeter = ((math.pi)*(self._a + self._b))\n",
    "        print(\"Perimeter(Crude Approximation) = {}\".format(self._perimeter))\n",
    "    def draw_shape(self):\n",
    "        turtle.clear()\n",
    "        turtle.shape(\"circle\")\n",
    "        turtle.shapesize(self._a,self._b,1)\n",
    "        turtle.fillcolor(\"white\")"
   ]
  },
  {
   "cell_type": "code",
   "execution_count": 49,
   "metadata": {},
   "outputs": [],
   "source": [
    "e = ellipse(10, 5)"
   ]
  },
  {
   "cell_type": "code",
   "execution_count": 50,
   "metadata": {},
   "outputs": [],
   "source": [
    "e.draw_shape()"
   ]
  },
  {
   "cell_type": "markdown",
   "metadata": {},
   "source": [
    "<h4>Regular Polygon</h4>"
   ]
  },
  {
   "cell_type": "code",
   "execution_count": 51,
   "metadata": {},
   "outputs": [],
   "source": [
    "class polygon(shape):\n",
    "    def __init__(self, n, l):\n",
    "        self._sides = n\n",
    "        self._length = l\n",
    "    def getarea(self):\n",
    "        self._area = (math.pow(self._length,2)*self._sides)/(4*abs(math.tan(180/self._sides)))\n",
    "        print(\"Area = {}\".format(self._area))\n",
    "    def getperimeter(self):\n",
    "        self._perimeter = (self._sides*self._length)\n",
    "        print(\"Perimeter = {}\".format(self._perimeter))\n",
    "    def draw_shape(self):\n",
    "        turtle.clear()\n",
    "        for i in range(self._sides): \n",
    "            turtle.forward(self._length) \n",
    "            turtle.right(360 / self._sides) "
   ]
  },
  {
   "cell_type": "code",
   "execution_count": 52,
   "metadata": {},
   "outputs": [],
   "source": [
    "p = polygon(6, 100)"
   ]
  },
  {
   "cell_type": "code",
   "execution_count": 53,
   "metadata": {},
   "outputs": [],
   "source": [
    "p.draw_shape()"
   ]
  },
  {
   "cell_type": "code",
   "execution_count": null,
   "metadata": {},
   "outputs": [],
   "source": []
  }
 ],
 "metadata": {
  "kernelspec": {
   "display_name": "Python 3",
   "language": "python",
   "name": "python3"
  },
  "language_info": {
   "codemirror_mode": {
    "name": "ipython",
    "version": 3
   },
   "file_extension": ".py",
   "mimetype": "text/x-python",
   "name": "python",
   "nbconvert_exporter": "python",
   "pygments_lexer": "ipython3",
   "version": "3.6.9"
  }
 },
 "nbformat": 4,
 "nbformat_minor": 4
}
